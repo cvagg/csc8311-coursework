{
 "cells": [
  {
   "cell_type": "code",
   "execution_count": 41,
   "metadata": {},
   "outputs": [
    {
     "data": {
      "text/plain": [
       "array([[' ', ' ', 'A', 'A', 'A'],\n",
       "       [' ', '0', '-', '-', '-'],\n",
       "       ['G', '-', ' ', ' ', ' '],\n",
       "       ['G', '-', ' ', ' ', ' '],\n",
       "       ['G', '-', ' ', ' ', ' '],\n",
       "       ['G', '-', ' ', ' ', ' '],\n",
       "       ['G', '-', ' ', ' ', ' ']], dtype='|S1')"
      ]
     },
     "execution_count": 41,
     "metadata": {},
     "output_type": "execute_result"
    }
   ],
   "source": [
    "import numpy as np\n",
    "\n",
    "seq1 = \"ATG\"\n",
    "seq2 = \"GGAAG\"\n",
    "\n",
    "array = np.full((len(seq2) + 2, len(seq1) + 2), \" \")\n",
    "array[0,2:] = seq1\n",
    "array[1,1:] = list(range(0, -len(seq1) -1, -1))\n",
    "array[2:,0] = seq2\n",
    "array[1:,1] = list(range(0, -len(seq2) -1, -1))"
   ]
  },
  {
   "cell_type": "markdown",
   "metadata": {},
   "source": [
    "# Needleman and Wunch function plan:"
   ]
  },
  {
   "cell_type": "code",
   "execution_count": 32,
   "metadata": {},
   "outputs": [
    {
     "name": "stdout",
     "output_type": "stream",
     "text": [
      "     Gap    A    T    G\n",
      "Gap  NaN  NaN  NaN  NaN\n",
      "G    NaN  NaN  NaN  NaN\n",
      "G    NaN  NaN  NaN  NaN\n",
      "A    NaN  NaN  NaN  NaN\n",
      "A    NaN  NaN  NaN  NaN\n",
      "G    NaN  NaN  NaN  NaN\n"
     ]
    }
   ],
   "source": [
    "##FROM THISPOINTER.COM/PANDAS-HOW-TO-CREATE-AN-EMPTY-DATAFRAME ...\n",
    "import pandas as pd\n",
    "\n",
    "seq1 = \"ATG\"\n",
    "seq2 = \"GGAAG\"\n",
    "\n",
    "#split seq input into list of char (for col names)\n",
    "def split(str):\n",
    "    \"\"\"returns list of char in input str. Source GeeksforGeeks\"\"\"\n",
    "    return [char for char in str]\n",
    "\n",
    "#column names for matrix\n",
    "s_1 = split(seq1)\n",
    "s_2 = split(seq2)\n",
    "\n",
    "#add Gap penalty col and row for each sequence\n",
    "s_1.insert(0,\"Gap\")\n",
    "s_2.insert(0,\"Gap\")\n",
    "\n",
    "#print(s_1, s_2)\n",
    "\n",
    "#####\n",
    "#create empty dataframe with column names only\n",
    "df = pd.DataFrame(columns = s_1, index = s_2) #WORKS\n",
    "#gap = 25\n",
    "#dct = {\"Gap\": gap}\n",
    "#df = pd.DataFrame(dct, index = s_2)\n",
    "print(df)\n",
    "\n",
    "#returns:\n",
    "#     Gap\n",
    "#Gap   25\n",
    "#G     25\n",
    "#G     25\n",
    "#A     25\n",
    "#A     25\n",
    "#G     25\n",
    "#####\n",
    "\n",
    "#####\n",
    "#idea- make a dictionary with penalty values to add to dataframe\n",
    "##THIS WORKS!##\n",
    "\n",
    "#dict_ = {\"A\" : 20, \"B\" : 30}\n",
    "#lst = [1,2]\n",
    "#df = pd.DataFrame(dict_, index = lst)\n",
    "#print(df)\n",
    "\n",
    "#returns:\n",
    "#    A   B\n",
    "#1  20  30\n",
    "#2  20  30\n",
    "#####\n"
   ]
  },
  {
   "cell_type": "markdown",
   "metadata": {},
   "source": [
    "# Making dict for scoring schema:"
   ]
  },
  {
   "cell_type": "code",
   "execution_count": 13,
   "metadata": {},
   "outputs": [
    {
     "name": "stdout",
     "output_type": "stream",
     "text": [
      "{'five': 5, 'two': 2, 'one': 1}\n",
      "OrderedDict([('one', 1), ('five', 5), ('two', 2)])\n"
     ]
    }
   ],
   "source": [
    "#Remembering order of dictionary keys and items\n",
    "\n",
    "import collections\n",
    "\n",
    "dict1 = {\"one\": 1, \"five\" : 5, \"two\" :2}\n",
    "print(dict1)\n",
    "\n",
    "dict2 = collections.OrderedDict()\n",
    "dict2[\"one\"] = 1\n",
    "dict2[\"five\"] = 5\n",
    "dict2[\"two\"] = 2\n",
    "\n",
    "print(dict2)\n"
   ]
  },
  {
   "cell_type": "code",
   "execution_count": 21,
   "metadata": {},
   "outputs": [
    {
     "name": "stdout",
     "output_type": "stream",
     "text": [
      "[0, 1, 2, 6, 3, 5, 4]\n"
     ]
    }
   ],
   "source": [
    "#Lists dont change order!!\n",
    "lst = [0,1,2,6,3,5,4]\n",
    "print(lst)"
   ]
  },
  {
   "cell_type": "code",
   "execution_count": 24,
   "metadata": {},
   "outputs": [
    {
     "name": "stdout",
     "output_type": "stream",
     "text": [
      "None\n",
      "None\n",
      "('G', 2)\n"
     ]
    },
    {
     "ename": "IndexError",
     "evalue": "list index out of range",
     "output_type": "error",
     "traceback": [
      "\u001b[0;31m---------------------------------------------------------------------------\u001b[0m",
      "\u001b[0;31mIndexError\u001b[0m                                Traceback (most recent call last)",
      "\u001b[0;32m<ipython-input-24-602dce2d8bc9>\u001b[0m in \u001b[0;36m<module>\u001b[0;34m()\u001b[0m\n\u001b[1;32m     27\u001b[0m \u001b[0mtest_items\u001b[0m \u001b[0;34m=\u001b[0m \u001b[0;34m[\u001b[0m\u001b[0;34m]\u001b[0m\u001b[0;34m\u001b[0m\u001b[0m\n\u001b[1;32m     28\u001b[0m \u001b[0;32mfor\u001b[0m \u001b[0mn\u001b[0m \u001b[0;32min\u001b[0m \u001b[0mrange\u001b[0m\u001b[0;34m(\u001b[0m\u001b[0mlen\u001b[0m\u001b[0;34m(\u001b[0m\u001b[0mseq2\u001b[0m\u001b[0;34m)\u001b[0m\u001b[0;34m)\u001b[0m\u001b[0;34m:\u001b[0m\u001b[0;34m\u001b[0m\u001b[0m\n\u001b[0;32m---> 29\u001b[0;31m     \u001b[0;32mif\u001b[0m \u001b[0mseq2\u001b[0m\u001b[0;34m[\u001b[0m\u001b[0mn\u001b[0m\u001b[0;34m]\u001b[0m \u001b[0;34m==\u001b[0m \u001b[0mseq1\u001b[0m\u001b[0;34m[\u001b[0m\u001b[0mn\u001b[0m\u001b[0;34m]\u001b[0m\u001b[0;34m:\u001b[0m\u001b[0;34m\u001b[0m\u001b[0m\n\u001b[0m\u001b[1;32m     30\u001b[0m         \u001b[0;32mprint\u001b[0m\u001b[0;34m(\u001b[0m\u001b[0mseq2\u001b[0m\u001b[0;34m[\u001b[0m\u001b[0mn\u001b[0m\u001b[0;34m]\u001b[0m\u001b[0;34m,\u001b[0m \u001b[0mn\u001b[0m\u001b[0;34m)\u001b[0m\u001b[0;34m\u001b[0m\u001b[0m\n\u001b[1;32m     31\u001b[0m     \u001b[0;32melse\u001b[0m\u001b[0;34m:\u001b[0m\u001b[0;34m\u001b[0m\u001b[0m\n",
      "\u001b[0;31mIndexError\u001b[0m: list index out of range"
     ]
    }
   ],
   "source": [
    "# for dictionary where {\"gap\":[gap,seq2[1]score,...]}\n",
    "\n",
    "##Making list of scoring penalties to insert into dataframe- the items of dictionary\n",
    "seq1 = [\"A\", \"T\", \"G\"]\n",
    "seq2 = [\"T\", \"G\", \"G\", \"C\"]\n",
    "\n",
    "gap = 25\n",
    "\n",
    "\n",
    "#Gap key \n",
    "g_items = []\n",
    "\n",
    "\n",
    "#loop through split sequence list to get gap penality for first col\n",
    "score = 0\n",
    "for i in range(len(seq2)):\n",
    "    if i == 0:\n",
    "        score = 0\n",
    "    else:\n",
    "        score = score + gap\n",
    "    g_items.append(score)\n",
    "\n",
    "#print(g_items) #[0, 25, 50, 75]\n",
    "\n",
    "#other cols, match, mismatch or gap?\n",
    "score = 0\n",
    "test_items = []\n",
    "for n in range(len(seq1)):\n",
    "    if seq1[n] == \n",
    "    #print(n)\n",
    "    #if seq2[n] == seq1[n]: #match\n",
    "    #    score = g_items[n-1] + gap\n",
    "    #    test_items.append(score)\n",
    "\n",
    "#print(\"test\", test_items)\n",
    "        \n",
    "    "
   ]
  },
  {
   "cell_type": "code",
   "execution_count": 43,
   "metadata": {},
   "outputs": [
    {
     "name": "stdout",
     "output_type": "stream",
     "text": [
      "[2, 3, 4]\n",
      "ATG\n"
     ]
    }
   ],
   "source": [
    "# for dictionary of other cols after gap\n",
    "mismatch = 20\n",
    "match = 0\n",
    "is_equal = {True: match, False: mismatch}\n",
    "\n",
    "#for x in range(2,len(seq1) + 2):\n",
    "#    for y in range(2,len(seq2) + 2)\n",
    "\n",
    "print(range(2,len(seq1) + 2))\n",
    "print(seq1)"
   ]
  },
  {
   "cell_type": "code",
   "execution_count": 8,
   "metadata": {},
   "outputs": [],
   "source": [
    "class Strings():\n",
    "    \"\"\"Defines sequences as strings and \n",
    "    displays them in format\"\"\"\n",
    "    \n",
    "    def __init__(self, *inputs):\n",
    "        self.items = []\n",
    "        for i in inputs:\n",
    "            self.append_if_valid(i)\n",
    "            \n",
    "    def append_if_valid(self,item):\n",
    "        if not isinstance(item, str):\n",
    "            raise TypeError(\"Sequences must be strings\")\n",
    "            #add if int in string raise TypeError?\n",
    "        self.items.append(item)\n",
    "    \n",
    "    def __str__(self):\n",
    "        return \"Sequences: {}\".format(self.items)\n",
    "        "
   ]
  },
  {
   "cell_type": "markdown",
   "metadata": {},
   "source": [
    "# New attempt with numpy"
   ]
  },
  {
   "cell_type": "code",
   "execution_count": 31,
   "metadata": {},
   "outputs": [
    {
     "data": {
      "text/plain": [
       "array([[' ', '0', 'A', 'T', 'G'],\n",
       "       ['0', 25, 50, 75, 100],\n",
       "       ['T', 25, 'mismatch', 'match', 'mismatch'],\n",
       "       ['G', 50, 'mismatch', 'mismatch', 'match'],\n",
       "       ['G', 75, 'mismatch', 'mismatch', 'match'],\n",
       "       ['C', 100, 'mismatch', 'mismatch', 'mismatch']], dtype=object)"
      ]
     },
     "execution_count": 31,
     "metadata": {},
     "output_type": "execute_result"
    }
   ],
   "source": [
    "import numpy as np\n",
    "\n",
    "seq1 = [\"A\", \"T\", \"G\"]\n",
    "seq2 = [\"T\", \"G\", \"G\", \"C\"]\n",
    "\n",
    "gap = 25\n",
    "\n",
    "#add Gap penalty col and row for each sequence\n",
    "seq1.insert(0, \" \")\n",
    "seq1.insert(1,\"0\") #0 means gap penalty\n",
    "seq2.insert(0,\" \")\n",
    "seq2.insert(1,\"0\")\n",
    "\n",
    "#print(seq1, seq2)\n",
    "\n",
    "#array = np.array([seq1,seq2])\n",
    "a = np.full((len(seq2), len(seq1)), \" \", dtype = \"object\")\n",
    "#change headers\n",
    "a[0, : ] = seq1 #x-axis header (seq1)\n",
    "a[:,0] = seq2 #y-axis header (seq2)\n",
    "\n",
    "gap_x = 0\n",
    "gap_y = 0\n",
    "\n",
    "for x in range(1, len(seq1)):\n",
    "    for y in range(1, len(seq2)):\n",
    "        #a[y,x] = \n",
    "        \n",
    "        # gap penalties\n",
    "        if y == 1:\n",
    "            gap_y = gap_y + gap\n",
    "            a[y,x] = gap_y\n",
    "        elif x == 1:\n",
    "            gap_x = gap_x + gap\n",
    "            a[y,x] = gap_x\n",
    "            \n",
    "        # match ?\n",
    "        elif seq1[x] == seq2[y]:\n",
    "            a[y,x] = \"match\"\n",
    "        \n",
    "        # mismatch\n",
    "        else:\n",
    "            a[y,x] = \"mismatch\"\n",
    "            \n",
    "        \n",
    "        \n",
    "        \n",
    "        \n",
    "#a[3,4] = \"y\"\n",
    "#a[2,2] = \"x\"\n",
    "#print(seq1[2], seq2[2])\n",
    "a"
   ]
  },
  {
   "cell_type": "code",
   "execution_count": 23,
   "metadata": {},
   "outputs": [
    {
     "name": "stdout",
     "output_type": "stream",
     "text": [
      "Sequences (1,2): (1,GCGGC)\n"
     ]
    }
   ],
   "source": [
    "class Sequences():\n",
    "    \"\"\"To check validity of strings??\n",
    "    atm doesn't work. Only prints string\"\"\"\n",
    "    \n",
    "    def __init__(self, seq1, seq2):\n",
    "        self.seq1 = seq1\n",
    "        self.seq2 = seq2\n",
    "    \n",
    "    def is_valid(self,seq1,seq2):\n",
    "        \"\"\"this doesnt work- TypeError not risen when int\n",
    "        in sequence prompt\"\"\"\n",
    "        if not isinstance(seq1,str):\n",
    "            raise TypeError(\"Sequences must be strings\")\n",
    "    \n",
    "    def __str__(self):\n",
    "        return \"Sequences (1,2): ({},{})\".format(self.seq1,self.seq2)\n",
    "    \n",
    "\n",
    "s = Sequences(1,\"GCGGC\")\n",
    "print(s)"
   ]
  },
  {
   "cell_type": "code",
   "execution_count": null,
   "metadata": {},
   "outputs": [],
   "source": [
    "##This works- returns true if any char in the string i\n",
    "## is an int\n",
    "\n",
    "i = \"TTC\"\n",
    "\n",
    "any(char.isdigit() for char in i)"
   ]
  },
  {
   "cell_type": "code",
   "execution_count": 29,
   "metadata": {},
   "outputs": [
    {
     "name": "stdout",
     "output_type": "stream",
     "text": [
      "Please enter sequence 1: TGC\n"
     ]
    },
    {
     "ename": "NameError",
     "evalue": "name 'TGC' is not defined",
     "output_type": "error",
     "traceback": [
      "\u001b[0;31m---------------------------------------------------------------------------\u001b[0m",
      "\u001b[0;31mNameError\u001b[0m                                 Traceback (most recent call last)",
      "\u001b[0;32m<ipython-input-29-2d5c2e75828f>\u001b[0m in \u001b[0;36m<module>\u001b[0;34m()\u001b[0m\n\u001b[1;32m     16\u001b[0m     \u001b[0;32mreturn\u001b[0m \u001b[0mseq\u001b[0m\u001b[0;34m\u001b[0m\u001b[0m\n\u001b[1;32m     17\u001b[0m \u001b[0;34m\u001b[0m\u001b[0m\n\u001b[0;32m---> 18\u001b[0;31m \u001b[0mseq_input\u001b[0m\u001b[0;34m(\u001b[0m\u001b[0;34m)\u001b[0m\u001b[0;34m\u001b[0m\u001b[0m\n\u001b[0m",
      "\u001b[0;32m<ipython-input-29-2d5c2e75828f>\u001b[0m in \u001b[0;36mseq_input\u001b[0;34m()\u001b[0m\n\u001b[1;32m      5\u001b[0m         \u001b[0mb\u001b[0m \u001b[0;34m=\u001b[0m \u001b[0mFalse\u001b[0m\u001b[0;34m\u001b[0m\u001b[0m\n\u001b[1;32m      6\u001b[0m \u001b[0;34m\u001b[0m\u001b[0m\n\u001b[0;32m----> 7\u001b[0;31m         \u001b[0mseq1\u001b[0m \u001b[0;34m=\u001b[0m \u001b[0minput\u001b[0m\u001b[0;34m(\u001b[0m\u001b[0;34m\"Please enter sequence 1: \"\u001b[0m\u001b[0;34m)\u001b[0m\u001b[0;34m\u001b[0m\u001b[0m\n\u001b[0m\u001b[1;32m      8\u001b[0m         \u001b[0mseq2\u001b[0m \u001b[0;34m=\u001b[0m \u001b[0minput\u001b[0m\u001b[0;34m(\u001b[0m\u001b[0;34m\"Please enter sequence 2: \"\u001b[0m\u001b[0;34m)\u001b[0m\u001b[0;34m\u001b[0m\u001b[0m\n\u001b[1;32m      9\u001b[0m \u001b[0;34m\u001b[0m\u001b[0m\n",
      "\u001b[0;32m/home/charliev/.local/lib/python2.7/site-packages/ipykernel/ipkernel.pyc\u001b[0m in \u001b[0;36m<lambda>\u001b[0;34m(prompt)\u001b[0m\n\u001b[1;32m    174\u001b[0m             \u001b[0mself\u001b[0m\u001b[0;34m.\u001b[0m\u001b[0m_sys_eval_input\u001b[0m \u001b[0;34m=\u001b[0m \u001b[0mbuiltin_mod\u001b[0m\u001b[0;34m.\u001b[0m\u001b[0minput\u001b[0m\u001b[0;34m\u001b[0m\u001b[0m\n\u001b[1;32m    175\u001b[0m             \u001b[0mbuiltin_mod\u001b[0m\u001b[0;34m.\u001b[0m\u001b[0mraw_input\u001b[0m \u001b[0;34m=\u001b[0m \u001b[0mself\u001b[0m\u001b[0;34m.\u001b[0m\u001b[0mraw_input\u001b[0m\u001b[0;34m\u001b[0m\u001b[0m\n\u001b[0;32m--> 176\u001b[0;31m             \u001b[0mbuiltin_mod\u001b[0m\u001b[0;34m.\u001b[0m\u001b[0minput\u001b[0m \u001b[0;34m=\u001b[0m \u001b[0;32mlambda\u001b[0m \u001b[0mprompt\u001b[0m\u001b[0;34m=\u001b[0m\u001b[0;34m''\u001b[0m\u001b[0;34m:\u001b[0m \u001b[0meval\u001b[0m\u001b[0;34m(\u001b[0m\u001b[0mself\u001b[0m\u001b[0;34m.\u001b[0m\u001b[0mraw_input\u001b[0m\u001b[0;34m(\u001b[0m\u001b[0mprompt\u001b[0m\u001b[0;34m)\u001b[0m\u001b[0;34m)\u001b[0m\u001b[0;34m\u001b[0m\u001b[0m\n\u001b[0m\u001b[1;32m    177\u001b[0m         \u001b[0mself\u001b[0m\u001b[0;34m.\u001b[0m\u001b[0m_save_getpass\u001b[0m \u001b[0;34m=\u001b[0m \u001b[0mgetpass\u001b[0m\u001b[0;34m.\u001b[0m\u001b[0mgetpass\u001b[0m\u001b[0;34m\u001b[0m\u001b[0m\n\u001b[1;32m    178\u001b[0m         \u001b[0mgetpass\u001b[0m\u001b[0;34m.\u001b[0m\u001b[0mgetpass\u001b[0m \u001b[0;34m=\u001b[0m \u001b[0mself\u001b[0m\u001b[0;34m.\u001b[0m\u001b[0mgetpass\u001b[0m\u001b[0;34m\u001b[0m\u001b[0m\n",
      "\u001b[0;32m/home/charliev/.local/lib/python2.7/site-packages/ipykernel/ipkernel.pyc\u001b[0m in \u001b[0;36m<module>\u001b[0;34m()\u001b[0m\n",
      "\u001b[0;31mNameError\u001b[0m: name 'TGC' is not defined"
     ]
    }
   ],
   "source": [
    "#Doesn't work\n",
    "def seq_input():\n",
    "    \"\"\"attempt to check if input has any ints in and if so to ask prompt again\"\"\"\n",
    "    b = True\n",
    "    \n",
    "    while b:\n",
    "        b = False\n",
    "        \n",
    "        seq1 = input(\"Please enter sequence 1: \")\n",
    "        seq2 = input(\"Please enter sequence 2: \")\n",
    "        \n",
    "        seq = (seq1,seq2)\n",
    "        \n",
    "        if any(char.isdigit() for char in seq):\n",
    "            print(\"Error, please enter sequence 1 in correct format with letters A, T, C or G\")\n",
    "            b = True\n",
    "            \n",
    "    return seq\n",
    "\n",
    "seq_input()"
   ]
  }
 ],
 "metadata": {
  "kernelspec": {
   "display_name": "Python 2",
   "language": "python",
   "name": "python2"
  },
  "language_info": {
   "codemirror_mode": {
    "name": "ipython",
    "version": 2
   },
   "file_extension": ".py",
   "mimetype": "text/x-python",
   "name": "python",
   "nbconvert_exporter": "python",
   "pygments_lexer": "ipython2",
   "version": "2.7.17"
  }
 },
 "nbformat": 4,
 "nbformat_minor": 2
}
